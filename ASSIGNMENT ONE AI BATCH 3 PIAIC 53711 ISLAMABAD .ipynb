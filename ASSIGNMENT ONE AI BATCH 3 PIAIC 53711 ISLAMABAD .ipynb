{
 "cells": [
  {
   "cell_type": "markdown",
   "metadata": {},
   "source": [
    "ASSIGNMENT-2 ALL FUNCTIONS OF STRING CLASS IN PYTHON"
   ]
  },
  {
   "cell_type": "markdown",
   "metadata": {},
   "source": [
    "1. Return Value from capitalize()\n",
    "The capitalize() function returns a string with first letter capitalized and all other characters lowercased. It doesn't modify the original string"
   ]
  },
  {
   "cell_type": "code",
   "execution_count": 1,
   "metadata": {},
   "outputs": [
    {
     "name": "stdout",
     "output_type": "stream",
     "text": [
      "('Old String: ', 'python is AWesome.')\n",
      "('Capitalized String:', 'Python is awesome.')\n"
     ]
    }
   ],
   "source": [
    "string = \"python is AWesome.\"\n",
    "\n",
    "capitalized_string = string.capitalize()\n",
    "\n",
    "print('Old String: ', string)\n",
    "print('Capitalized String:', capitalized_string)"
   ]
  },
  {
   "cell_type": "markdown",
   "metadata": {},
   "source": [
    "2. Count number of occurrences of a given substring"
   ]
  },
  {
   "cell_type": "code",
   "execution_count": 2,
   "metadata": {},
   "outputs": [
    {
     "name": "stdout",
     "output_type": "stream",
     "text": [
      "('The count is:', 2)\n"
     ]
    }
   ],
   "source": [
    "# define string\n",
    "string = \"Python is awesome, isn't it?\"\n",
    "substring = \"is\"\n",
    "\n",
    "count = string.count(substring)\n",
    "\n",
    "# print count\n",
    "print(\"The count is:\", count)"
   ]
  },
  {
   "cell_type": "markdown",
   "metadata": {},
   "source": [
    "3. Count number of occurrences of a given substring using start and end"
   ]
  },
  {
   "cell_type": "code",
   "execution_count": 3,
   "metadata": {},
   "outputs": [
    {
     "name": "stdout",
     "output_type": "stream",
     "text": [
      "('The count is:', 1)\n"
     ]
    }
   ],
   "source": [
    "# define string\n",
    "string = \"Python is awesome, isn't it?\"\n",
    "substring = \"i\"\n",
    "\n",
    "# count after first 'i' and before the last 'i'\n",
    "count = string.count(substring, 8, 25)\n",
    "\n",
    "# print count\n",
    "print(\"The count is:\", count)"
   ]
  },
  {
   "cell_type": "markdown",
   "metadata": {},
   "source": [
    "4. Python String endswith()\n",
    "The endswith() method returns True if a string ends with the specified suffix. If not, it returns False"
   ]
  },
  {
   "cell_type": "code",
   "execution_count": 4,
   "metadata": {},
   "outputs": [
    {
     "name": "stdout",
     "output_type": "stream",
     "text": [
      "False\n",
      "True\n",
      "True\n"
     ]
    }
   ],
   "source": [
    "text = \"Python is easy to learn.\"\n",
    "\n",
    "result = text.endswith('to learn')\n",
    "# returns False\n",
    "print(result)\n",
    "\n",
    "result = text.endswith('to learn.')\n",
    "# returns True\n",
    "print(result)\n",
    "\n",
    "result = text.endswith('Python is easy to learn.')\n",
    "# returns True\n",
    "print(result)"
   ]
  },
  {
   "cell_type": "markdown",
   "metadata": {},
   "source": [
    "5. Python String endswith()\n",
    "The endswith() With start and end Parameters returns specific values"
   ]
  },
  {
   "cell_type": "code",
   "execution_count": 5,
   "metadata": {},
   "outputs": [
    {
     "name": "stdout",
     "output_type": "stream",
     "text": [
      "True\n",
      "False\n",
      "True\n"
     ]
    }
   ],
   "source": [
    "text = \"Python programming is easy to learn.\"\n",
    "\n",
    "# start parameter: 7\n",
    "# \"programming is easy to learn.\" string is searched\n",
    "result = text.endswith('learn.', 7)\n",
    "print(result)\n",
    "\n",
    "# Both start and end is provided\n",
    "# start: 7, end: 26\n",
    "# \"programming is easy\" string is searched\n",
    "\n",
    "result = text.endswith('is', 7, 26)\n",
    "# Returns False\n",
    "print(result)\n",
    "\n",
    "result = text.endswith('easy', 7, 26)\n",
    "# returns True\n",
    "print(result)"
   ]
  },
  {
   "cell_type": "markdown",
   "metadata": {},
   "source": [
    "6. expandtabs() With no Argument"
   ]
  },
  {
   "cell_type": "code",
   "execution_count": 6,
   "metadata": {},
   "outputs": [
    {
     "name": "stdout",
     "output_type": "stream",
     "text": [
      "xyz     12345   abc\n"
     ]
    }
   ],
   "source": [
    "str = 'xyz\\t12345\\tabc'\n",
    "\n",
    "# no argument is passed\n",
    "# default tabsize is 8\n",
    "result = str.expandtabs()\n",
    "\n",
    "print(result)"
   ]
  },
  {
   "cell_type": "markdown",
   "metadata": {},
   "source": [
    "7. expandtabs() With Different Argument"
   ]
  },
  {
   "cell_type": "code",
   "execution_count": 7,
   "metadata": {},
   "outputs": [
    {
     "name": "stdout",
     "output_type": "stream",
     "text": [
      "('Original String:', 'xyz\\t12345\\tabc')\n",
      "('Tabsize 2:', 'xyz 12345 abc')\n",
      "('Tabsize 3:', 'xyz   12345 abc')\n",
      "('Tabsize 4:', 'xyz 12345   abc')\n",
      "('Tabsize 5:', 'xyz  12345     abc')\n",
      "('Tabsize 6:', 'xyz   12345 abc')\n"
     ]
    }
   ],
   "source": [
    "str = \"xyz\\t12345\\tabc\"\n",
    "print('Original String:', str)\n",
    "\n",
    "# tabsize is set to 2\n",
    "print('Tabsize 2:', str.expandtabs(2))\n",
    "\n",
    "# tabsize is set to 3\n",
    "print('Tabsize 3:', str.expandtabs(3))\n",
    "\n",
    "# tabsize is set to 4\n",
    "print('Tabsize 4:', str.expandtabs(4))\n",
    "\n",
    "# tabsize is set to 5\n",
    "print('Tabsize 5:', str.expandtabs(5))\n",
    "\n",
    "# tabsize is set to 6\n",
    "print('Tabsize 6:', str.expandtabs(6))"
   ]
  },
  {
   "cell_type": "markdown",
   "metadata": {},
   "source": [
    "8. Encode to Default Utf-8 Encoding"
   ]
  },
  {
   "cell_type": "code",
   "execution_count": 11,
   "metadata": {},
   "outputs": [
    {
     "name": "stdout",
     "output_type": "stream",
     "text": [
      "('The string is:', 'python!')\n",
      "('The encoded version is:', 'python!')\n"
     ]
    }
   ],
   "source": [
    " # unicode string\n",
    "string = 'python!'\n",
    "# print string\n",
    "print('The string is:', string)\n",
    "# default encoding to utf-8\n",
    "string_utf = string.encode()\n",
    "# print result\n",
    "print('The encoded version is:', string_utf)"
   ]
  },
  {
   "cell_type": "markdown",
   "metadata": {},
   "source": [
    "9. Encoding with error parameter"
   ]
  },
  {
   "cell_type": "code",
   "execution_count": 12,
   "metadata": {},
   "outputs": [
    {
     "name": "stdout",
     "output_type": "stream",
     "text": [
      "('The string is:', 'python!')\n",
      "('The encoded version (with ignore) is:', 'python!')\n",
      "('The encoded version (with replace) is:', 'python!')\n"
     ]
    }
   ],
   "source": [
    "    # unicode string\n",
    "    string = 'python!'\n",
    "    # print string\n",
    "    print('The string is:', string)\n",
    "    # ignore error\n",
    "    print('The encoded version (with ignore) is:', string.encode(\"ascii\", \"ignore\"))\n",
    "    # replace error\n",
    "    print('The encoded version (with replace) is:', string.encode(\"ascii\", \"replace\"))"
   ]
  },
  {
   "cell_type": "markdown",
   "metadata": {},
   "source": [
    "10. Basic formatting for default, positional and keyword arguments"
   ]
  },
  {
   "cell_type": "code",
   "execution_count": 14,
   "metadata": {},
   "outputs": [
    {
     "name": "stdout",
     "output_type": "stream",
     "text": [
      "Hello Adeel, your balance is 230.2346.\n",
      "Hello Adeel, your balance is 230.2346.\n",
      "Hello Adeel, your balance is 230.2346.\n",
      "Hello Adeel, your balance is 230.2346.\n"
     ]
    }
   ],
   "source": [
    "# default arguments\n",
    "print(\"Hello {}, your balance is {}.\".format(\"Adeel\", 230.2346))\n",
    "\n",
    "# positional arguments\n",
    "print(\"Hello {0}, your balance is {1}.\".format(\"Adeel\", 230.2346))\n",
    "\n",
    "# keyword arguments\n",
    "print(\"Hello {name}, your balance is {blc}.\".format(name=\"Adeel\", blc=230.2346))\n",
    "\n",
    "# mixed arguments\n",
    "print(\"Hello {0}, your balance is {blc}.\".format(\"Adeel\", blc=230.2346))"
   ]
  },
  {
   "cell_type": "markdown",
   "metadata": {},
   "source": [
    "11. Simple number formatting"
   ]
  },
  {
   "cell_type": "code",
   "execution_count": 15,
   "metadata": {},
   "outputs": [
    {
     "name": "stdout",
     "output_type": "stream",
     "text": [
      "The number is:123\n",
      "The float number is:123.456790\n",
      "bin: 1100, oct: 14, hex: c\n"
     ]
    }
   ],
   "source": [
    "# integer arguments\n",
    "print(\"The number is:{:d}\".format(123))\n",
    "\n",
    "# float arguments\n",
    "print(\"The float number is:{:f}\".format(123.4567898))\n",
    "\n",
    "# octal, binary and hexadecimal format\n",
    "print(\"bin: {0:b}, oct: {0:o}, hex: {0:x}\".format(12))"
   ]
  },
  {
   "cell_type": "markdown",
   "metadata": {},
   "source": [
    "12. Convert a string to lowercase"
   ]
  },
  {
   "cell_type": "code",
   "execution_count": 16,
   "metadata": {},
   "outputs": [
    {
     "name": "stdout",
     "output_type": "stream",
     "text": [
      "this should be lowercase!\n",
      "th!s sh0uld b3 l0w3rcas3!\n"
     ]
    }
   ],
   "source": [
    "# example string\n",
    "string = \"THIS SHOULD BE LOWERCASE!\"\n",
    "print(string.lower())\n",
    "\n",
    "# string with numbers\n",
    "# all alphabets whould be lowercase\n",
    "string = \"Th!s Sh0uLd B3 L0w3rCas3!\"\n",
    "print(string.lower())"
   ]
  },
  {
   "cell_type": "markdown",
   "metadata": {},
   "source": [
    "13. Convert a string to uppercase"
   ]
  },
  {
   "cell_type": "code",
   "execution_count": 17,
   "metadata": {},
   "outputs": [
    {
     "name": "stdout",
     "output_type": "stream",
     "text": [
      "THIS SHOULD BE UPPERCASE!\n",
      "TH!S SH0ULD B3 UPP3RCAS3!\n"
     ]
    }
   ],
   "source": [
    "# example string\n",
    "string = \"this should be uppercase!\"\n",
    "print(string.upper())\n",
    "\n",
    "# string with numbers\n",
    "# all alphabets whould be lowercase\n",
    "string = \"Th!s Sh0uLd B3 uPp3rCas3!\"\n",
    "print(string.upper())"
   ]
  },
  {
   "cell_type": "markdown",
   "metadata": {},
   "source": [
    "14. Working of strip()"
   ]
  },
  {
   "cell_type": "code",
   "execution_count": 18,
   "metadata": {},
   "outputs": [
    {
     "name": "stdout",
     "output_type": "stream",
     "text": [
      "xoxo love xoxo\n",
      "lov\n",
      " xoxo love xoxo   \n",
      "droid is awesome\n"
     ]
    }
   ],
   "source": [
    "string = ' xoxo love xoxo   '\n",
    "\n",
    "# Leading whitepsace are removed\n",
    "print(string.strip())\n",
    "\n",
    "print(string.strip(' xoxoe'))\n",
    "\n",
    "# Argument doesn't contain space\n",
    "# No characters are removed.\n",
    "print(string.strip('sti'))\n",
    "\n",
    "string = 'android is awesome'\n",
    "print(string.strip('an'))"
   ]
  },
  {
   "cell_type": "markdown",
   "metadata": {},
   "source": [
    "15. How to use replace()"
   ]
  },
  {
   "cell_type": "code",
   "execution_count": 19,
   "metadata": {},
   "outputs": [
    {
     "name": "stdout",
     "output_type": "stream",
     "text": [
      "hurt, hurt heart\n",
      "Let it be, don't let it be, don't let it be, let it be\n"
     ]
    }
   ],
   "source": [
    "song = 'cold, cold heart'\n",
    "print (song.replace('cold', 'hurt'))\n",
    "\n",
    "song = 'Let it be, let it be, let it be, let it be'\n",
    "\n",
    "'''only two occurences of 'let' is replaced'''\n",
    "print(song.replace('let', \"don't let\", 2))"
   ]
  },
  {
   "cell_type": "markdown",
   "metadata": {},
   "source": [
    "16.  Working of lstrip()"
   ]
  },
  {
   "cell_type": "code",
   "execution_count": 22,
   "metadata": {},
   "outputs": [
    {
     "name": "stdout",
     "output_type": "stream",
     "text": [
      "this is good \n",
      "   this is good \n",
      "his is good \n",
      "www.piaic.com.pk/\n"
     ]
    }
   ],
   "source": [
    "random_string = '   this is good '\n",
    "\n",
    "# Leading whitepsace are removed\n",
    "print(random_string.lstrip())\n",
    "\n",
    "# Argument doesn't contain space\n",
    "# No characters are removed.\n",
    "print(random_string.lstrip('sti'))\n",
    "\n",
    "print(random_string.lstrip('s ti'))\n",
    "\n",
    "website = 'https://www.piaic.com.pk/'\n",
    "print(website.lstrip('htps:/.'))"
   ]
  },
  {
   "cell_type": "markdown",
   "metadata": {},
   "source": [
    "17. startswith() Without start and end Parameters"
   ]
  },
  {
   "cell_type": "code",
   "execution_count": 23,
   "metadata": {},
   "outputs": [
    {
     "name": "stdout",
     "output_type": "stream",
     "text": [
      "False\n",
      "True\n",
      "True\n"
     ]
    }
   ],
   "source": [
    "text = \"Python is easy to learn.\"\n",
    "\n",
    "result = text.startswith('is easy')\n",
    "# returns False\n",
    "print(result)\n",
    "\n",
    "result = text.startswith('Python is ')\n",
    "# returns True\n",
    "print(result)\n",
    "\n",
    "result = text.startswith('Python is easy to learn.')\n",
    "# returns True\n",
    "print(result)"
   ]
  },
  {
   "cell_type": "markdown",
   "metadata": {},
   "source": [
    "18. How reversed works for a sequence: string, tuple, list and range"
   ]
  },
  {
   "cell_type": "code",
   "execution_count": 24,
   "metadata": {},
   "outputs": [
    {
     "name": "stdout",
     "output_type": "stream",
     "text": [
      "['n', 'o', 'h', 't', 'y', 'P']\n",
      "['n', 'o', 'h', 't', 'y', 'P']\n",
      "[8, 7, 6, 5]\n",
      "[5, 3, 4, 2, 1]\n"
     ]
    }
   ],
   "source": [
    "# for string\n",
    "seqString = 'Python'\n",
    "print(list(reversed(seqString)))\n",
    "\n",
    "# for tuple\n",
    "seqTuple = ('P', 'y', 't', 'h', 'o', 'n')\n",
    "print(list(reversed(seqTuple)))\n",
    "\n",
    "# for range\n",
    "seqRange = range(5, 9)\n",
    "print(list(reversed(seqRange)))\n",
    "\n",
    "# for list\n",
    "seqList = [1, 2, 4, 3, 5]\n",
    "print(list(reversed(seqList)))"
   ]
  },
  {
   "cell_type": "code",
   "execution_count": 26,
   "metadata": {},
   "outputs": [
    {
     "name": "stdout",
     "output_type": "stream",
     "text": [
      "200\n",
      "<type 'list'>\n"
     ]
    }
   ],
   "source": [
    "names = {\"Adeel\", \"Hunaina\",\"Hamnah\", 200, \"Hunza\"}\n",
    "names = list(names)\n",
    "\n",
    "print(names[0])\n",
    "print(type(names))"
   ]
  },
  {
   "cell_type": "code",
   "execution_count": 27,
   "metadata": {},
   "outputs": [
    {
     "data": {
      "text/plain": [
       "['__add__',\n",
       " '__class__',\n",
       " '__contains__',\n",
       " '__delattr__',\n",
       " '__doc__',\n",
       " '__eq__',\n",
       " '__format__',\n",
       " '__ge__',\n",
       " '__getattribute__',\n",
       " '__getitem__',\n",
       " '__getnewargs__',\n",
       " '__getslice__',\n",
       " '__gt__',\n",
       " '__hash__',\n",
       " '__init__',\n",
       " '__le__',\n",
       " '__len__',\n",
       " '__lt__',\n",
       " '__mod__',\n",
       " '__mul__',\n",
       " '__ne__',\n",
       " '__new__',\n",
       " '__reduce__',\n",
       " '__reduce_ex__',\n",
       " '__repr__',\n",
       " '__rmod__',\n",
       " '__rmul__',\n",
       " '__setattr__',\n",
       " '__sizeof__',\n",
       " '__str__',\n",
       " '__subclasshook__',\n",
       " '_formatter_field_name_split',\n",
       " '_formatter_parser',\n",
       " 'capitalize',\n",
       " 'center',\n",
       " 'count',\n",
       " 'decode',\n",
       " 'encode',\n",
       " 'endswith',\n",
       " 'expandtabs',\n",
       " 'find',\n",
       " 'format',\n",
       " 'index',\n",
       " 'isalnum',\n",
       " 'isalpha',\n",
       " 'isdigit',\n",
       " 'islower',\n",
       " 'isspace',\n",
       " 'istitle',\n",
       " 'isupper',\n",
       " 'join',\n",
       " 'ljust',\n",
       " 'lower',\n",
       " 'lstrip',\n",
       " 'partition',\n",
       " 'replace',\n",
       " 'rfind',\n",
       " 'rindex',\n",
       " 'rjust',\n",
       " 'rpartition',\n",
       " 'rsplit',\n",
       " 'rstrip',\n",
       " 'split',\n",
       " 'splitlines',\n",
       " 'startswith',\n",
       " 'strip',\n",
       " 'swapcase',\n",
       " 'title',\n",
       " 'translate',\n",
       " 'upper',\n",
       " 'zfill']"
      ]
     },
     "execution_count": 27,
     "metadata": {},
     "output_type": "execute_result"
    }
   ],
   "source": [
    "a = \"Adeel Farrukh\"\n",
    "dir(a)\n",
    "\n"
   ]
  },
  {
   "cell_type": "code",
   "execution_count": 30,
   "metadata": {},
   "outputs": [
    {
     "name": "stdout",
     "output_type": "stream",
     "text": [
      "ADEEL FARRUKH\n",
      "adeel farrukh\n",
      "Adeel Farrukh\n",
      "13\n",
      "AdeeL Farrukh\n",
      "13\n"
     ]
    }
   ],
   "source": [
    "a = \"AdeeL Farrukh\"\n",
    "print(a.upper())\n",
    "print(a.lower())\n",
    "print(a.title())\n",
    "print(len(a))\n",
    "print(a.lstrip())\n",
    "print(len(a.lstrip()))"
   ]
  },
  {
   "cell_type": "code",
   "execution_count": 31,
   "metadata": {},
   "outputs": [
    {
     "data": {
      "text/plain": [
       "['AdeeL', 'Farrukh']"
      ]
     },
     "execution_count": 31,
     "metadata": {},
     "output_type": "execute_result"
    }
   ],
   "source": [
    "b = a.split()\n",
    "b"
   ]
  },
  {
   "cell_type": "code",
   "execution_count": 32,
   "metadata": {},
   "outputs": [
    {
     "data": {
      "text/plain": [
       "'AdeeL Farrukh'"
      ]
     },
     "execution_count": 32,
     "metadata": {},
     "output_type": "execute_result"
    }
   ],
   "source": [
    "\" \".join(b)"
   ]
  },
  {
   "cell_type": "code",
   "execution_count": 33,
   "metadata": {},
   "outputs": [
    {
     "name": "stdout",
     "output_type": "stream",
     "text": [
      "set([200, 'Hamnah', 'Hunza', 'Adeel', 'Hunaina'])\n",
      "<type 'set'>\n"
     ]
    }
   ],
   "source": [
    "names = {\"Adeel\", \"Hunaina\",\"Hamnah\", 200, \"Hunza\"}\n",
    "print(names)\n",
    "print(type(names))"
   ]
  },
  {
   "cell_type": "code",
   "execution_count": 35,
   "metadata": {},
   "outputs": [
    {
     "name": "stdout",
     "output_type": "stream",
     "text": [
      "<type 'tuple'>\n"
     ]
    }
   ],
   "source": [
    "#Index     0       1       2       3\n",
    "names = (\"ADEEL\", \"HUNAINA\",\"HAMNAH\", 200)\n",
    "#Index     -4     -3       -2      -1\n",
    "print(type(names))"
   ]
  },
  {
   "cell_type": "code",
   "execution_count": 36,
   "metadata": {},
   "outputs": [
    {
     "data": {
      "text/plain": [
       "'PIAICZINDABADPIAICZINDABAD'"
      ]
     },
     "execution_count": 36,
     "metadata": {},
     "output_type": "execute_result"
    }
   ],
   "source": [
    "a = \"PIAICZINDABAD\"\n",
    "a * 2"
   ]
  },
  {
   "cell_type": "code",
   "execution_count": 37,
   "metadata": {},
   "outputs": [
    {
     "data": {
      "text/plain": [
       "'1034'"
      ]
     },
     "execution_count": 37,
     "metadata": {},
     "output_type": "execute_result"
    }
   ],
   "source": [
    "'10'+ '34'"
   ]
  },
  {
   "cell_type": "code",
   "execution_count": 38,
   "metadata": {},
   "outputs": [
    {
     "data": {
      "text/plain": [
       "float"
      ]
     },
     "execution_count": 38,
     "metadata": {},
     "output_type": "execute_result"
    }
   ],
   "source": [
    "a = 20.5\n",
    "type(a)"
   ]
  },
  {
   "cell_type": "code",
   "execution_count": 39,
   "metadata": {},
   "outputs": [
    {
     "data": {
      "text/plain": [
       "2"
      ]
     },
     "execution_count": 39,
     "metadata": {},
     "output_type": "execute_result"
    }
   ],
   "source": [
    "int(\"1\") + int('1')"
   ]
  },
  {
   "cell_type": "code",
   "execution_count": 41,
   "metadata": {},
   "outputs": [
    {
     "name": "stdout",
     "output_type": "stream",
     "text": [
      "8\n",
      "8\n",
      "38963552\n",
      "38963552\n",
      "38963552\n",
      "38963528\n"
     ]
    }
   ],
   "source": [
    "a = 7\n",
    "b = 5\n",
    "print(a)\n",
    "print(b)\n",
    "\n",
    "print(id(a))\n",
    "print(id(b))\n",
    "\n",
    "b += 1\n",
    "print(id(a))\n",
    "print(id(b))"
   ]
  },
  {
   "cell_type": "code",
   "execution_count": 42,
   "metadata": {},
   "outputs": [
    {
     "data": {
      "text/plain": [
       "int"
      ]
     },
     "execution_count": 42,
     "metadata": {},
     "output_type": "execute_result"
    }
   ],
   "source": [
    "a = 7\n",
    "type(a)"
   ]
  },
  {
   "cell_type": "code",
   "execution_count": 43,
   "metadata": {},
   "outputs": [
    {
     "data": {
      "text/plain": [
       "float"
      ]
     },
     "execution_count": 43,
     "metadata": {},
     "output_type": "execute_result"
    }
   ],
   "source": [
    "a = 20.7\n",
    "type(a)"
   ]
  },
  {
   "cell_type": "code",
   "execution_count": 44,
   "metadata": {},
   "outputs": [
    {
     "data": {
      "text/plain": [
       "bool"
      ]
     },
     "execution_count": 44,
     "metadata": {},
     "output_type": "execute_result"
    }
   ],
   "source": [
    "a = True\n",
    "type(a)"
   ]
  },
  {
   "cell_type": "code",
   "execution_count": 45,
   "metadata": {},
   "outputs": [
    {
     "data": {
      "text/plain": [
       "bool"
      ]
     },
     "execution_count": 45,
     "metadata": {},
     "output_type": "execute_result"
    }
   ],
   "source": [
    "a = False\n",
    "type(a)"
   ]
  },
  {
   "cell_type": "code",
   "execution_count": 46,
   "metadata": {},
   "outputs": [
    {
     "name": "stdout",
     "output_type": "stream",
     "text": [
      "['n', 'o', 'h', 't', 'y', 'P']\n"
     ]
    }
   ],
   "source": [
    "# for string\n",
    "seqString = 'Python'\n",
    "print(list(reversed(seqString)))\n"
   ]
  },
  {
   "cell_type": "code",
   "execution_count": 47,
   "metadata": {},
   "outputs": [
    {
     "name": "stdout",
     "output_type": "stream",
     "text": [
      "['n', 'o', 'h', 't', 'y', 'P']\n"
     ]
    }
   ],
   "source": [
    "# for tuple\n",
    "seqTuple = ('P', 'y', 't', 'h', 'o', 'n')\n",
    "print(list(reversed(seqTuple)))"
   ]
  },
  {
   "cell_type": "code",
   "execution_count": 48,
   "metadata": {},
   "outputs": [
    {
     "name": "stdout",
     "output_type": "stream",
     "text": [
      "[8, 7, 6, 5]\n"
     ]
    }
   ],
   "source": [
    "# for range\n",
    "seqRange = range(5, 9)\n",
    "print(list(reversed(seqRange)))"
   ]
  },
  {
   "cell_type": "code",
   "execution_count": 50,
   "metadata": {},
   "outputs": [
    {
     "name": "stdout",
     "output_type": "stream",
     "text": [
      "[5, 3, 4, 2, 1]\n"
     ]
    }
   ],
   "source": [
    "# for list\n",
    "seqList = [1, 2, 4, 3, 5]\n",
    "print(list(reversed(seqList)))"
   ]
  },
  {
   "cell_type": "code",
   "execution_count": 51,
   "metadata": {},
   "outputs": [
    {
     "name": "stdout",
     "output_type": "stream",
     "text": [
      "['u', 'o', 'i', 'e', 'a']\n"
     ]
    }
   ],
   "source": [
    "class Vowels:\n",
    "    vowels = ['a', 'e', 'i', 'o', 'u']\n",
    "\n",
    "    def __reversed__(self):\n",
    "        return reversed(self.vowels)\n",
    "\n",
    "v = Vowels()\n",
    "print(list(reversed(v)))"
   ]
  },
  {
   "cell_type": "code",
   "execution_count": 52,
   "metadata": {},
   "outputs": [
    {
     "name": "stdout",
     "output_type": "stream",
     "text": [
      "4.5\n"
     ]
    }
   ],
   "source": [
    "numbers = [2.5, 3, 4, -5]\n",
    "\n",
    "# start parameter is not provided\n",
    "numbersSum = sum(numbers)\n",
    "print(numbersSum)"
   ]
  },
  {
   "cell_type": "code",
   "execution_count": 53,
   "metadata": {},
   "outputs": [
    {
     "name": "stdout",
     "output_type": "stream",
     "text": [
      "14.5\n"
     ]
    }
   ],
   "source": [
    "numbers = [2.5, 3, 4, -5]\n",
    "# start = 10\n",
    "numbersSum = sum(numbers, 10)\n",
    "print(numbersSum)"
   ]
  },
  {
   "cell_type": "code",
   "execution_count": 54,
   "metadata": {},
   "outputs": [
    {
     "name": "stdout",
     "output_type": "stream",
     "text": [
      "Pyt\n",
      "yh\n"
     ]
    }
   ],
   "source": [
    "pyString = 'Python'\n",
    "\n",
    "# contains indices (0, 1, 2)\n",
    "# i.e. P, y and t\n",
    "sObject = slice(3)\n",
    "\n",
    "print(pyString[sObject])\n",
    "\n",
    "# contains indices (1, 3)\n",
    "# i.e. y and h\n",
    "sObject = slice(1, 5, 2)\n",
    "\n",
    "print(pyString[sObject])"
   ]
  },
  {
   "cell_type": "code",
   "execution_count": null,
   "metadata": {},
   "outputs": [],
   "source": []
  }
 ],
 "metadata": {
  "kernelspec": {
   "display_name": "Python 2",
   "language": "python",
   "name": "python2"
  },
  "language_info": {
   "codemirror_mode": {
    "name": "ipython",
    "version": 2
   },
   "file_extension": ".py",
   "mimetype": "text/x-python",
   "name": "python",
   "nbconvert_exporter": "python",
   "pygments_lexer": "ipython2",
   "version": "2.7.16"
  }
 },
 "nbformat": 4,
 "nbformat_minor": 2
}
